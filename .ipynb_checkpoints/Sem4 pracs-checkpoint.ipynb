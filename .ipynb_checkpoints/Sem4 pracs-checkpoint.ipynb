{
 "cells": [
  {
   "cell_type": "markdown",
   "metadata": {},
   "source": [
    "# Practical 1.1\n",
    "\n",
    "a  = 16 #-------------------------> integer\n",
    "b  = 16.5 #-----------------------> Float\n",
    "c  = 10.5 + 5.5j # ---------------> Complex no.\n",
    "\n",
    "fA = float(a) # ------------------> int to float\n",
    "cA = complex(a) #-----------------> Int to Complex\n",
    "\n",
    "iB = int(b) # --------------------> float to int\n",
    "cB = complex(b) #-----------------> Float to Complex\n",
    "\n",
    "oA = oct(a) #---------------------> decimal to octal\n",
    "bA = bin(a) # --------------------> Decimal to binary\n",
    "\n",
    "hA = hex(a) # --------------------> decimal to hex\n"
   ]
  },
  {
   "cell_type": "markdown",
   "metadata": {},
   "source": [
    "# Practical 1.2 & 1.3\n",
    "\n",
    "a  = [10, 20, 30, 40, 50, 60, 70, 80, 90]\n",
    "b  = {1,2,3,4}\n",
    "c  = (1,2,3,4)\n",
    "d  = {'String': \"This is a string\", 'INTEGER': 16, 'FLOAT': 16.7}\n",
    "d1 = {'STRING1': \"ABCD\", 'STRING2': \"sohlj\", 'STRING3': \"shbhskb\"}\n",
    "s  = u'\\u0915\\u0947\\u0964\\u0930\\u092a\\u0948\\u0925\\u0964\\u0928' # -------------> Unicode String\n",
    "s1 = \"hbksoiiaaolnasjn\"\n",
    "\n",
    "\n",
    "ba_A  = bytearray(a) # ------------------------------------------> List to ByteArray \n",
    "sA    = set(a) # ------------------------------------------------> List to Set\n",
    "tA    = tuple(a) # ----------------------------------------------> List to tuple\n",
    "soA   = a.sort(reverse=True) # ----------------------------------> Sorted List (Reversed)\n",
    "rA    = a.reverse() # -------------------------------------------> Reverse List\n",
    "\n",
    "sT    = sorted(c, reverse=True) # -------------------------------> Tuple Sorted (Reversed)\n",
    "\n",
    "sD = sorted(d1.items(),key=lambda t:t[1]) # ---------------------> Sort Dictionary by value\n",
    "\n",
    "sS1   = sorted(s1) #---------------------------------------------> Sorted String"
   ]
  },
  {
   "cell_type": "code",
   "execution_count": null,
   "metadata": {},
   "outputs": [],
   "source": [
    "# Practical 2\n",
    "\n"
   ]
  }
 ],
 "metadata": {
  "kernelspec": {
   "display_name": "Python 3",
   "language": "python",
   "name": "python3"
  },
  "language_info": {
   "codemirror_mode": {
    "name": "ipython",
    "version": 3
   },
   "file_extension": ".py",
   "mimetype": "text/x-python",
   "name": "python",
   "nbconvert_exporter": "python",
   "pygments_lexer": "ipython3",
   "version": "3.6.0"
  }
 },
 "nbformat": 4,
 "nbformat_minor": 2
}
